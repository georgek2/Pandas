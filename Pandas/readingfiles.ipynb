{
 "cells": [
  {
   "cell_type": "code",
   "execution_count": 1,
   "metadata": {},
   "outputs": [],
   "source": [
    "import pandas as pd\n",
    "import matplotlib.pyplot as plt\n",
    "import math"
   ]
  },
  {
   "cell_type": "code",
   "execution_count": 22,
   "metadata": {},
   "outputs": [
    {
     "name": "stdout",
     "output_type": "stream",
     "text": [
      "             year  population\n",
      "country                      \n",
      "Afghanistan  1952     8425333\n",
      "Afghanistan  1957     9240934\n",
      "Afghanistan  1962    10267083\n",
      "Afghanistan  1967    11537966\n",
      "Afghanistan  1972    13079460\n"
     ]
    }
   ],
   "source": [
    "data = pd.read_csv('countries.csv') # TO remove the index col, just pass in (index_col=0) as 2nd arg..\n",
    "print(data.head())"
   ]
  },
  {
   "cell_type": "code",
   "execution_count": 3,
   "metadata": {},
   "outputs": [
    {
     "name": "stdout",
     "output_type": "stream",
     "text": [
      "        country  year  population\n",
      "0   Afghanistan  1952     8425333\n",
      "1   Afghanistan  1957     9240934\n",
      "2   Afghanistan  1962    10267083\n",
      "3   Afghanistan  1967    11537966\n",
      "4   Afghanistan  1972    13079460\n",
      "5   Afghanistan  1977    14880372\n",
      "6   Afghanistan  1982    12881816\n",
      "7   Afghanistan  1987    13867957\n",
      "8   Afghanistan  1992    16317921\n",
      "9   Afghanistan  1997    22227415\n",
      "10  Afghanistan  2002    25268405\n",
      "11  Afghanistan  2007    31889923\n",
      "12      Albania  1952     1282697\n",
      "13      Albania  1957     1476505\n",
      "14      Albania  1962     1728137\n"
     ]
    }
   ],
   "source": [
    "print(data.head(15))"
   ]
  },
  {
   "cell_type": "code",
   "execution_count": 7,
   "metadata": {},
   "outputs": [
    {
     "name": "stdout",
     "output_type": "stream",
     "text": [
      "      country  year  population\n",
      "216  Cambodia  1952     4693836\n",
      "217  Cambodia  1957     5322536\n",
      "218  Cambodia  1962     6083619\n",
      "219  Cambodia  1967     6960067\n",
      "220  Cambodia  1972     7450606\n",
      "221  Cambodia  1977     6978607\n",
      "222  Cambodia  1982     7272485\n",
      "223  Cambodia  1987     8371791\n",
      "224  Cambodia  1992    10150094\n",
      "225  Cambodia  1997    11782962\n",
      "226  Cambodia  2002    12926707\n",
      "227  Cambodia  2007    14131858\n"
     ]
    }
   ],
   "source": [
    "Cambodia = data[data.country == 'Cambodia']\n",
    "print(Cambodia)"
   ]
  },
  {
   "cell_type": "code",
   "execution_count": 8,
   "metadata": {},
   "outputs": [],
   "source": [
    "pop_52 = Cambodia.loc[216, 'population']"
   ]
  },
  {
   "cell_type": "code",
   "execution_count": 6,
   "metadata": {},
   "outputs": [
    {
     "name": "stdout",
     "output_type": "stream",
     "text": [
      "4693836\n"
     ]
    }
   ],
   "source": [
    "print(pop_52)"
   ]
  },
  {
   "cell_type": "code",
   "execution_count": 10,
   "metadata": {},
   "outputs": [
    {
     "name": "stdout",
     "output_type": "stream",
     "text": [
      "6083619\n"
     ]
    }
   ],
   "source": [
    "pop_62 = Cambodia.loc[218, 'population']\n",
    "print(pop_62)"
   ]
  },
  {
   "cell_type": "code",
   "execution_count": 11,
   "metadata": {},
   "outputs": [
    {
     "data": {
      "text/plain": [
       "30"
      ]
     },
     "execution_count": 11,
     "metadata": {},
     "output_type": "execute_result"
    }
   ],
   "source": [
    "# A function that calculates the % increase in population..\n",
    "def comparison():\n",
    "    increase = pop_62 - pop_52\n",
    "    per_inc = increase / pop_52 * 100\n",
    "    return math.ceil(per_inc)\n",
    "\n",
    "comparison()"
   ]
  },
  {
   "cell_type": "code",
   "execution_count": 9,
   "metadata": {},
   "outputs": [
    {
     "name": "stdout",
     "output_type": "stream",
     "text": [
      "30\n"
     ]
    },
    {
     "data": {
      "text/plain": [
       "numpy.float64"
      ]
     },
     "execution_count": 9,
     "metadata": {},
     "output_type": "execute_result"
    }
   ],
   "source": [
    "inc = comparison()\n",
    "print(math.ceil(inc))\n",
    "type(inc)"
   ]
  },
  {
   "cell_type": "code",
   "execution_count": 10,
   "metadata": {},
   "outputs": [
    {
     "name": "stdout",
     "output_type": "stream",
     "text": [
      "30\n"
     ]
    },
    {
     "data": {
      "text/plain": [
       "str"
      ]
     },
     "execution_count": 10,
     "metadata": {},
     "output_type": "execute_result"
    }
   ],
   "source": [
    "conv = math.ceil(inc)\n",
    "print(conv)\n",
    "s_conv = str(conv)\n",
    "type(s_conv)"
   ]
  },
  {
   "cell_type": "code",
   "execution_count": 11,
   "metadata": {},
   "outputs": [
    {
     "name": "stdout",
     "output_type": "stream",
     "text": [
      "The population of Cambodia increased by nearly 30% between 1952 and 1962\n"
     ]
    }
   ],
   "source": [
    "print('The population of Cambodia increased by nearly ' + s_conv + '% between 1952 and 1962')"
   ]
  },
  {
   "cell_type": "code",
   "execution_count": 12,
   "metadata": {},
   "outputs": [
    {
     "name": "stdout",
     "output_type": "stream",
     "text": [
      "216     4693836\n",
      "217     5322536\n",
      "218     6083619\n",
      "219     6960067\n",
      "220     7450606\n",
      "221     6978607\n",
      "222     7272485\n",
      "223     8371791\n",
      "224    10150094\n",
      "225    11782962\n",
      "Name: population, dtype: int64\n"
     ]
    }
   ],
   "source": [
    "yrs_45 = Cambodia.loc[216:225, 'population']\n",
    "print(yrs_45)\n"
   ]
  },
  {
   "cell_type": "code",
   "execution_count": 13,
   "metadata": {},
   "outputs": [
    {
     "name": "stdout",
     "output_type": "stream",
     "text": [
      "12\n"
     ]
    }
   ],
   "source": [
    "again = Cambodia.iloc[0:, 2]\n",
    "print(len(again))"
   ]
  },
  {
   "cell_type": "code",
   "execution_count": 14,
   "metadata": {},
   "outputs": [
    {
     "name": "stdout",
     "output_type": "stream",
     "text": [
      "4693836\n",
      "5322536\n",
      "6083619\n",
      "6960067\n",
      "7450606\n",
      "6978607\n",
      "7272485\n",
      "8371791\n",
      "10150094\n",
      "11782962\n",
      "12926707\n",
      "14131858\n"
     ]
    }
   ],
   "source": [
    "for item in again:\n",
    "    print(item)"
   ]
  },
  {
   "cell_type": "code",
   "execution_count": 15,
   "metadata": {},
   "outputs": [
    {
     "name": "stdout",
     "output_type": "stream",
     "text": [
      "    primary     high    Uni\n",
      "100     Lee  Cynthia     Me\n",
      "101    Leon   Yvonne   Them\n",
      "102   Jessy  Charles  So We\n"
     ]
    }
   ],
   "source": [
    "names = pd.DataFrame({'primary':['Lee', 'Leon', 'Jessy'], 'high':['Cynthia', 'Yvonne', 'Charles'], 'Uni': ['Me', 'Them', 'So We']}, index=[100, 101, 102])\n",
    "print(names)\n"
   ]
  },
  {
   "cell_type": "code",
   "execution_count": 16,
   "metadata": {},
   "outputs": [
    {
     "name": "stdout",
     "output_type": "stream",
     "text": [
      "likes    [Porn, Rugby, Saxafon]\n",
      "dtype: object\n"
     ]
    }
   ],
   "source": [
    "likes = pd.Series({'likes':['Porn', 'Rugby', 'Saxafon']})\n",
    "print(likes)"
   ]
  },
  {
   "cell_type": "code",
   "execution_count": 28,
   "metadata": {},
   "outputs": [
    {
     "name": "stdout",
     "output_type": "stream",
     "text": [
      "    primary     high    Uni\n",
      "100     Lee  Cynthia     Me\n",
      "101    Leon   Yvonne   Them\n",
      "102   Jessy  Charles  So We\n"
     ]
    }
   ],
   "source": [
    "names.likes = likes\n",
    "print(names)"
   ]
  },
  {
   "cell_type": "code",
   "execution_count": 18,
   "metadata": {},
   "outputs": [
    {
     "name": "stdout",
     "output_type": "stream",
     "text": [
      "{'visitors': [345, 764, 356], 'bounce': [12, 32, 12], 'keeps': [True, True, False]}\n"
     ]
    }
   ],
   "source": [
    "web_data = {'visitors':[345, 764, 356], 'bounce':[12, 32, 12], 'keeps':[True, True, False]}\n",
    "print(web_data)"
   ]
  },
  {
   "cell_type": "code",
   "execution_count": 19,
   "metadata": {},
   "outputs": [
    {
     "name": "stdout",
     "output_type": "stream",
     "text": [
      "   visitors  bounce  keeps\n",
      "0       345      12   True\n",
      "1       764      32   True\n",
      "2       356      12  False\n"
     ]
    }
   ],
   "source": [
    "df = pd.DataFrame(web_data)\n",
    "print(df)"
   ]
  },
  {
   "cell_type": "code",
   "execution_count": 20,
   "metadata": {},
   "outputs": [
    {
     "name": "stdout",
     "output_type": "stream",
     "text": [
      "          visitors  bounce  keeps\n",
      "Monday         345      12   True\n",
      "Tuesday        764      32   True\n",
      "Thursday       356      12  False\n"
     ]
    }
   ],
   "source": [
    "df = pd.DataFrame(web_data, index=['Monday', 'Tuesday', 'Thursday'])\n",
    "print(df)"
   ]
  },
  {
   "cell_type": "code",
   "execution_count": 21,
   "metadata": {},
   "outputs": [
    {
     "name": "stdout",
     "output_type": "stream",
     "text": [
      "visitors     764\n",
      "bounce        32\n",
      "keeps       True\n",
      "Name: Tuesday, dtype: object\n"
     ]
    }
   ],
   "source": [
    "print(df.loc['Tuesday'])"
   ]
  },
  {
   "cell_type": "code",
   "execution_count": 22,
   "metadata": {},
   "outputs": [
    {
     "name": "stdout",
     "output_type": "stream",
     "text": [
      "False\n"
     ]
    }
   ],
   "source": [
    "print(df.loc['Thursday', 'keeps'])"
   ]
  },
  {
   "cell_type": "code",
   "execution_count": 23,
   "metadata": {},
   "outputs": [
    {
     "name": "stdout",
     "output_type": "stream",
     "text": [
      "visitors      356\n",
      "bounce         12\n",
      "keeps       False\n",
      "Name: Thursday, dtype: object\n"
     ]
    }
   ],
   "source": [
    "print(df.loc['Thursday'])"
   ]
  },
  {
   "cell_type": "code",
   "execution_count": 24,
   "metadata": {},
   "outputs": [
    {
     "name": "stdout",
     "output_type": "stream",
     "text": [
      "visitors      356\n",
      "bounce         12\n",
      "keeps       False\n",
      "Name: Thursday, dtype: object\n"
     ]
    }
   ],
   "source": [
    "print(df.iloc[2])"
   ]
  },
  {
   "cell_type": "code",
   "execution_count": 25,
   "metadata": {},
   "outputs": [
    {
     "name": "stdout",
     "output_type": "stream",
     "text": [
      "         visitors  bounce\n",
      "Monday        345      12\n",
      "Tuesday       764      32\n"
     ]
    }
   ],
   "source": [
    "print(df.iloc[0:2, 0:2])"
   ]
  },
  {
   "cell_type": "code",
   "execution_count": 26,
   "metadata": {},
   "outputs": [
    {
     "name": "stdout",
     "output_type": "stream",
     "text": [
      "          visitors  bounce  keeps\n",
      "Friday         456       3   True\n",
      "Saturday       876       4   True\n",
      "Sunday         456       5   True\n"
     ]
    }
   ],
   "source": [
    "df1 = pd.DataFrame({'visitors':[456, 876, 456], 'bounce':[3, 4, 5], 'keeps':[True, True, True]}, index=['Friday', 'Saturday', 'Sunday'])\n",
    "print(df1)"
   ]
  },
  {
   "cell_type": "code",
   "execution_count": 27,
   "metadata": {},
   "outputs": [
    {
     "name": "stdout",
     "output_type": "stream",
     "text": [
      "Empty DataFrame\n",
      "Columns: [visitors, bounce, keeps]\n",
      "Index: []\n",
      "          visitors  bounce  keeps\n",
      "Monday         345      12   True\n",
      "Tuesday        764      32   True\n",
      "Thursday       356      12  False\n",
      "          visitors  bounce  keeps\n",
      "Friday         456       3   True\n",
      "Saturday       876       4   True\n",
      "Sunday         456       5   True\n"
     ]
    }
   ],
   "source": [
    "df2 = pd.merge(df, df1)\n",
    "print(df2)\n",
    "print(df)\n",
    "print(df1)"
   ]
  },
  {
   "cell_type": "code",
   "execution_count": 29,
   "metadata": {},
   "outputs": [
    {
     "name": "stdout",
     "output_type": "stream",
     "text": [
      "<class 'pandas.core.frame.DataFrame'>\n",
      "RangeIndex: 1704 entries, 0 to 1703\n",
      "Data columns (total 3 columns):\n",
      "country       1704 non-null object\n",
      "year          1704 non-null int64\n",
      "population    1704 non-null int64\n",
      "dtypes: int64(2), object(1)\n",
      "memory usage: 40.0+ KB\n"
     ]
    }
   ],
   "source": [
    "data.info()"
   ]
  },
  {
   "cell_type": "code",
   "execution_count": 13,
   "metadata": {},
   "outputs": [
    {
     "data": {
      "text/html": [
       "<div>\n",
       "<style scoped>\n",
       "    .dataframe tbody tr th:only-of-type {\n",
       "        vertical-align: middle;\n",
       "    }\n",
       "\n",
       "    .dataframe tbody tr th {\n",
       "        vertical-align: top;\n",
       "    }\n",
       "\n",
       "    .dataframe thead th {\n",
       "        text-align: right;\n",
       "    }\n",
       "</style>\n",
       "<table border=\"1\" class=\"dataframe\">\n",
       "  <thead>\n",
       "    <tr style=\"text-align: right;\">\n",
       "      <th></th>\n",
       "      <th>year</th>\n",
       "      <th>population</th>\n",
       "    </tr>\n",
       "  </thead>\n",
       "  <tbody>\n",
       "    <tr>\n",
       "      <th>count</th>\n",
       "      <td>1704.00000</td>\n",
       "      <td>1.704000e+03</td>\n",
       "    </tr>\n",
       "    <tr>\n",
       "      <th>mean</th>\n",
       "      <td>1979.50000</td>\n",
       "      <td>2.960121e+07</td>\n",
       "    </tr>\n",
       "    <tr>\n",
       "      <th>std</th>\n",
       "      <td>17.26533</td>\n",
       "      <td>1.061579e+08</td>\n",
       "    </tr>\n",
       "    <tr>\n",
       "      <th>min</th>\n",
       "      <td>1952.00000</td>\n",
       "      <td>6.001100e+04</td>\n",
       "    </tr>\n",
       "    <tr>\n",
       "      <th>25%</th>\n",
       "      <td>1965.75000</td>\n",
       "      <td>2.793664e+06</td>\n",
       "    </tr>\n",
       "    <tr>\n",
       "      <th>50%</th>\n",
       "      <td>1979.50000</td>\n",
       "      <td>7.023596e+06</td>\n",
       "    </tr>\n",
       "    <tr>\n",
       "      <th>75%</th>\n",
       "      <td>1993.25000</td>\n",
       "      <td>1.958522e+07</td>\n",
       "    </tr>\n",
       "    <tr>\n",
       "      <th>max</th>\n",
       "      <td>2007.00000</td>\n",
       "      <td>1.318683e+09</td>\n",
       "    </tr>\n",
       "  </tbody>\n",
       "</table>\n",
       "</div>"
      ],
      "text/plain": [
       "             year    population\n",
       "count  1704.00000  1.704000e+03\n",
       "mean   1979.50000  2.960121e+07\n",
       "std      17.26533  1.061579e+08\n",
       "min    1952.00000  6.001100e+04\n",
       "25%    1965.75000  2.793664e+06\n",
       "50%    1979.50000  7.023596e+06\n",
       "75%    1993.25000  1.958522e+07\n",
       "max    2007.00000  1.318683e+09"
      ]
     },
     "execution_count": 13,
     "metadata": {},
     "output_type": "execute_result"
    }
   ],
   "source": [
    "data.describe() # Gives a nice overview of the main aggregated values over each column"
   ]
  },
  {
   "cell_type": "code",
   "execution_count": 21,
   "metadata": {},
   "outputs": [
    {
     "data": {
      "image/png": "[encoded data removed]",
      "text/plain": [
       "<Figure size 432x288 with 1 Axes>"
      ]
     },
     "metadata": {
      "needs_background": "light"
     },
     "output_type": "display_data"
    }
   ],
   "source": [
    "x = [21,22,23,4,5,6,77,8,9,10,31,32,33,34,35,36,37,18,49,50,100]\n",
    "num_bins = 5\n",
    "plt.hist(x, num_bins, facecolor='green') # Plotting a simple histogram...\n",
    "plt.show()"
   ]
  },
  {
   "cell_type": "code",
   "execution_count": null,
   "metadata": {},
   "outputs": [],
   "source": []
  },
  {
   "cell_type": "code",
   "execution_count": null,
   "metadata": {},
   "outputs": [],
   "source": []
  },
  {
   "cell_type": "code",
   "execution_count": null,
   "metadata": {},
   "outputs": [],
   "source": []
  },
  {
   "cell_type": "code",
   "execution_count": null,
   "metadata": {},
   "outputs": [],
   "source": []
  },
  {
   "cell_type": "code",
   "execution_count": null,
   "metadata": {},
   "outputs": [],
   "source": []
  }
 ],
 "metadata": {
  "kernelspec": {
   "display_name": "Python 3",
   "language": "python",
   "name": "python3"
  },
  "language_info": {
   "codemirror_mode": {
    "name": "ipython",
    "version": 3
   },
   "file_extension": ".py",
   "mimetype": "text/x-python",
   "name": "python",
   "nbconvert_exporter": "python",
   "pygments_lexer": "ipython3",
   "version": "3.7.6"
  }
 },
 "nbformat": 4,
 "nbformat_minor": 4
}
